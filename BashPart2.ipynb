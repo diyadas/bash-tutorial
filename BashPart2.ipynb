{
 "cells": [
  {
   "cell_type": "markdown",
   "metadata": {},
   "source": [
    "# Intermediate (?) Bash\n",
    "In a continuation of part one, I'm going to introduce slightly more advanced topics in Bash. This section is merely a glimpse of all you can do with Bash, and rather than follow a particular guide, is focused on commands I use frequently in my research projects.\n",
    "\n",
    "We're going to continue with our examination of the [data](https://swcarpentry.github.io/shell-novice/data/shell-novice-data.zip) from the very extensive Software Carpentry tutorial on Bash."
   ]
  },
  {
   "cell_type": "markdown",
   "metadata": {},
   "source": [
    "## Searching for that one line in a file ... `grep`"
   ]
  },
  {
   "cell_type": "markdown",
   "metadata": {},
   "source": [
    "In the previous section, David taught you how to look inside a file using `less`. Let's `cd` (change directory) into the `creatures` subdirectory and peek inside `basilisk.dat`."
   ]
  },
  {
   "cell_type": "code",
   "execution_count": 1,
   "metadata": {},
   "outputs": [
    {
     "name": "stdout",
     "output_type": "stream",
     "text": [
      "BashPart2.ipynb\tREADME.md\tdata-shell\n"
     ]
    }
   ],
   "source": [
    "ls"
   ]
  },
  {
   "cell_type": "code",
   "execution_count": 2,
   "metadata": {},
   "outputs": [
    {
     "name": "stdout",
     "output_type": "stream",
     "text": [
      "creatures\t\tnorth-pacific-gyre\tsolar.pdf\n",
      "data\t\t\tnotes.txt\t\twriting\n",
      "molecules\t\tpizza.cfg\n"
     ]
    }
   ],
   "source": [
    "cd data-shell; ls"
   ]
  },
  {
   "cell_type": "code",
   "execution_count": 3,
   "metadata": {},
   "outputs": [
    {
     "name": "stdout",
     "output_type": "stream",
     "text": [
      "basilisk.dat\tunicorn.dat\n"
     ]
    }
   ],
   "source": [
    "cd creatures; ls"
   ]
  },
  {
   "cell_type": "code",
   "execution_count": 4,
   "metadata": {},
   "outputs": [
    {
     "name": "stdout",
     "output_type": "stream",
     "text": [
      "COMMON NAME: basilisk\n",
      "CLASSIFICATION: basiliscus vulgaris\n",
      "UPDATED: 1745-05-02\n",
      "CCCCAACGAG\n",
      "GAAACAGATC\n",
      "ATTAGAAGAT\n",
      "CTGTCGCGAA\n",
      "CCGCACCTCT\n",
      "CCTATCTACA\n",
      "TGTTTGTCTC\n"
     ]
    }
   ],
   "source": [
    "head basilisk.dat"
   ]
  },
  {
   "cell_type": "markdown",
   "metadata": {},
   "source": [
    "What if we want to find all rows where some property is defined by a colon (`:`)? We can do that using `grep`. The syntax for the basic `grep` command is as follows:\n",
    "\n",
    "        grep PATTERN file.txt\n",
    "        \n",
    "In our case then, we try \n",
    "        \n",
    "        grep : basilisk.dat"
   ]
  },
  {
   "cell_type": "code",
   "execution_count": 5,
   "metadata": {},
   "outputs": [
    {
     "name": "stdout",
     "output_type": "stream",
     "text": [
      "COMMON NAME: basilisk\n",
      "CLASSIFICATION: basiliscus vulgaris\n",
      "UPDATED: 1745-05-02\n"
     ]
    }
   ],
   "source": [
    "grep : basilisk.dat"
   ]
  },
  {
   "cell_type": "markdown",
   "metadata": {},
   "source": [
    "We can even try this in our other creature file."
   ]
  },
  {
   "cell_type": "code",
   "execution_count": 6,
   "metadata": {},
   "outputs": [
    {
     "name": "stdout",
     "output_type": "stream",
     "text": [
      "COMMON NAME: unicorn\n",
      "CLASSIFICATION: equus monoceros\n",
      "UPDATED: 1738-11-24\n"
     ]
    }
   ],
   "source": [
    "grep : unicorn.dat"
   ]
  },
  {
   "cell_type": "markdown",
   "metadata": {},
   "source": [
    "`grep` even has a nice way to get all lines *except* those matching the pattern - feed in a `-v` option, i.e. `grep -v : basilisk.dat`. \n",
    "\n",
    "But before we do that, let's check the word count to see if we're going to get a lot of text."
   ]
  },
  {
   "cell_type": "code",
   "execution_count": 7,
   "metadata": {},
   "outputs": [
    {
     "name": "stdout",
     "output_type": "stream",
     "text": [
      "     163 basilisk.dat\n"
     ]
    }
   ],
   "source": [
    "wc -l basilisk.dat"
   ]
  },
  {
   "cell_type": "markdown",
   "metadata": {},
   "source": [
    "Yes, that's a little too much text, so let's just look at the first 10 lines without a `:` in them."
   ]
  },
  {
   "cell_type": "markdown",
   "metadata": {},
   "source": [
    "## Chaining commands together ... `|` (pipe)"
   ]
  },
  {
   "cell_type": "markdown",
   "metadata": {
    "collapsed": true
   },
   "source": [
    "If you recall from the previous section, the first 10 lines of a file can be obtained using `head`. Here, though, we want the first 10 lines of the result of a Bash operation. **What can we do???**\n",
    "\n",
    "Luckily, Bash has a very convenient syntax for chaining operations together, using the pipe (`|`) - this symbol is usually located above your return key, and is typed by `SHIFT + \\`.\n",
    "\n",
    "So we want to do a grep, and then feed that result as the argument to `head`. So:"
   ]
  },
  {
   "cell_type": "code",
   "execution_count": 8,
   "metadata": {},
   "outputs": [
    {
     "name": "stdout",
     "output_type": "stream",
     "text": [
      "CCCCAACGAG\n",
      "GAAACAGATC\n",
      "ATTAGAAGAT\n",
      "CTGTCGCGAA\n",
      "CCGCACCTCT\n",
      "CCTATCTACA\n",
      "TGTTTGTCTC\n",
      "TGGGTGGGGA\n",
      "TCCATAGGCA\n",
      "GCATTACCAG\n"
     ]
    }
   ],
   "source": [
    "grep -v : basilisk.dat | head"
   ]
  },
  {
   "cell_type": "markdown",
   "metadata": {},
   "source": [
    "## Looping through (all files in a directory or other things) ... `for` loops"
   ]
  },
  {
   "cell_type": "markdown",
   "metadata": {
    "collapsed": true
   },
   "source": [
    "What if we wanted to run our `grep` operation on all `.dat` files in a directory? Here, we only may have two `.dat` files, but in practice, many of us have more than two samples, and sometimes way too many to do this manually. This is where `for` loops are very handy."
   ]
  },
  {
   "cell_type": "code",
   "execution_count": 11,
   "metadata": {},
   "outputs": [
    {
     "name": "stdout",
     "output_type": "stream",
     "text": [
      "basilisk.dat\n",
      "CCCCAACGAG\n",
      "GAAACAGATC\n",
      "ATTAGAAGAT\n",
      "CTGTCGCGAA\n",
      "CCGCACCTCT\n",
      "CCTATCTACA\n",
      "TGTTTGTCTC\n",
      "TGGGTGGGGA\n",
      "TCCATAGGCA\n",
      "GCATTACCAG\n",
      "\n",
      "\n",
      "unicorn.dat\n",
      "AGCCGGGTCG\n",
      "CTTTACCTTA\n",
      "AAGCCGAGGG\n",
      "GGGTGGTACG\n",
      "CCGAACATAA\n",
      "ACGCTTTAAC\n",
      "GTCCCTCCAG\n",
      "GCTGATAATC\n",
      "GTTTAAGCAC\n",
      "ACGTGGTCTA\n",
      "\n",
      "\n"
     ]
    }
   ],
   "source": [
    "for file in *.dat; do\n",
    "    echo $file\n",
    "    grep -v : $file | head\n",
    "    echo -e '\\n'\n",
    "done"
   ]
  },
  {
   "cell_type": "code",
   "execution_count": 11,
   "metadata": {},
   "outputs": [
    {
     "name": "stdout",
     "output_type": "stream",
     "text": [
      "bash: syntax error near unexpected token `done'\n"
     ]
    },
    {
     "ename": "",
     "evalue": "258",
     "output_type": "error",
     "traceback": []
    }
   ],
   "source": []
  },
  {
   "cell_type": "markdown",
   "metadata": {},
   "source": [
    "## Splitting strings ... introducing `awk` "
   ]
  },
  {
   "cell_type": "code",
   "execution_count": null,
   "metadata": {
    "collapsed": true
   },
   "outputs": [],
   "source": []
  },
  {
   "cell_type": "markdown",
   "metadata": {},
   "source": [
    "## Find and replace all ... introducing `sed`"
   ]
  },
  {
   "cell_type": "code",
   "execution_count": null,
   "metadata": {
    "collapsed": true
   },
   "outputs": [],
   "source": []
  }
 ],
 "metadata": {
  "anaconda-cloud": {},
  "kernelspec": {
   "display_name": "Bash",
   "language": "bash",
   "name": "bash"
  },
  "language_info": {
   "codemirror_mode": "shell",
   "file_extension": ".sh",
   "mimetype": "text/x-sh",
   "name": "bash"
  }
 },
 "nbformat": 4,
 "nbformat_minor": 2
}
